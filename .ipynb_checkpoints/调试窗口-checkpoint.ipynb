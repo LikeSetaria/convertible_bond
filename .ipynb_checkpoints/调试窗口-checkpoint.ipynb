{
 "cells": [
  {
   "cell_type": "code",
   "execution_count": 2,
   "metadata": {},
   "outputs": [],
   "source": [
    "import tushare as ts"
   ]
  },
  {
   "cell_type": "code",
   "execution_count": 10,
   "metadata": {},
   "outputs": [],
   "source": [
    "df = ts.get_sina_dd('123006',date='2019-04-03',vol=100)"
   ]
  },
  {
   "cell_type": "code",
   "execution_count": 11,
   "metadata": {
    "scrolled": false
   },
   "outputs": [
    {
     "ename": "AttributeError",
     "evalue": "'NoneType' object has no attribute 'head'",
     "output_type": "error",
     "traceback": [
      "\u001b[0;31m---------------------------------------------------------------------------\u001b[0m",
      "\u001b[0;31mAttributeError\u001b[0m                            Traceback (most recent call last)",
      "\u001b[0;32m<ipython-input-11-c42a15b2c7cf>\u001b[0m in \u001b[0;36m<module>\u001b[0;34m()\u001b[0m\n\u001b[0;32m----> 1\u001b[0;31m \u001b[0mdf\u001b[0m\u001b[0;34m.\u001b[0m\u001b[0mhead\u001b[0m\u001b[0;34m(\u001b[0m\u001b[0;34m)\u001b[0m\u001b[0;34m\u001b[0m\u001b[0m\n\u001b[0m",
      "\u001b[0;31mAttributeError\u001b[0m: 'NoneType' object has no attribute 'head'"
     ]
    }
   ],
   "source": [
    "df.head()"
   ]
  },
  {
   "cell_type": "code",
   "execution_count": null,
   "metadata": {
    "scrolled": true
   },
   "outputs": [
    {
     "name": "stdout",
     "output_type": "stream",
     "text": [
      "[Getting data:]#"
     ]
    }
   ],
   "source": [
    "df = ts.get_today_ticks('123006')"
   ]
  },
  {
   "cell_type": "code",
   "execution_count": 10,
   "metadata": {},
   "outputs": [],
   "source": [
    "import pandas as pd"
   ]
  },
  {
   "cell_type": "code",
   "execution_count": 26,
   "metadata": {},
   "outputs": [],
   "source": [
    "df=ts.get_tick_data('123006',date='2019-04-03',src='tt')"
   ]
  },
  {
   "cell_type": "code",
   "execution_count": 8,
   "metadata": {},
   "outputs": [
    {
     "data": {
      "text/html": [
       "<div>\n",
       "<style scoped>\n",
       "    .dataframe tbody tr th:only-of-type {\n",
       "        vertical-align: middle;\n",
       "    }\n",
       "\n",
       "    .dataframe tbody tr th {\n",
       "        vertical-align: top;\n",
       "    }\n",
       "\n",
       "    .dataframe thead th {\n",
       "        text-align: right;\n",
       "    }\n",
       "</style>\n",
       "<table border=\"1\" class=\"dataframe\">\n",
       "  <thead>\n",
       "    <tr style=\"text-align: right;\">\n",
       "      <th></th>\n",
       "      <th>time</th>\n",
       "      <th>price</th>\n",
       "      <th>change</th>\n",
       "      <th>volume</th>\n",
       "      <th>amount</th>\n",
       "      <th>type</th>\n",
       "    </tr>\n",
       "  </thead>\n",
       "  <tbody>\n",
       "    <tr>\n",
       "      <th>0</th>\n",
       "      <td>09:25:04</td>\n",
       "      <td>178.00</td>\n",
       "      <td>-0.75</td>\n",
       "      <td>294</td>\n",
       "      <td>523323</td>\n",
       "      <td>卖盘</td>\n",
       "    </tr>\n",
       "    <tr>\n",
       "      <th>1</th>\n",
       "      <td>09:30:03</td>\n",
       "      <td>178.00</td>\n",
       "      <td>-0.00</td>\n",
       "      <td>142</td>\n",
       "      <td>252767</td>\n",
       "      <td>卖盘</td>\n",
       "    </tr>\n",
       "    <tr>\n",
       "      <th>2</th>\n",
       "      <td>09:30:06</td>\n",
       "      <td>177.50</td>\n",
       "      <td>-0.50</td>\n",
       "      <td>1180</td>\n",
       "      <td>2098086</td>\n",
       "      <td>卖盘</td>\n",
       "    </tr>\n",
       "    <tr>\n",
       "      <th>3</th>\n",
       "      <td>09:30:09</td>\n",
       "      <td>177.50</td>\n",
       "      <td>0.00</td>\n",
       "      <td>69</td>\n",
       "      <td>122406</td>\n",
       "      <td>买盘</td>\n",
       "    </tr>\n",
       "    <tr>\n",
       "      <th>4</th>\n",
       "      <td>09:30:12</td>\n",
       "      <td>177.61</td>\n",
       "      <td>0.11</td>\n",
       "      <td>610</td>\n",
       "      <td>1082802</td>\n",
       "      <td>买盘</td>\n",
       "    </tr>\n",
       "  </tbody>\n",
       "</table>\n",
       "</div>"
      ],
      "text/plain": [
       "       time   price  change  volume   amount type\n",
       "0  09:25:04  178.00   -0.75     294   523323   卖盘\n",
       "1  09:30:03  178.00   -0.00     142   252767   卖盘\n",
       "2  09:30:06  177.50   -0.50    1180  2098086   卖盘\n",
       "3  09:30:09  177.50    0.00      69   122406   买盘\n",
       "4  09:30:12  177.61    0.11     610  1082802   买盘"
      ]
     },
     "execution_count": 8,
     "metadata": {},
     "output_type": "execute_result"
    }
   ],
   "source": [
    "df.head()"
   ]
  },
  {
   "cell_type": "code",
   "execution_count": 9,
   "metadata": {},
   "outputs": [
    {
     "name": "stdout",
     "output_type": "stream",
     "text": [
      "<class 'pandas.core.frame.DataFrame'>\n",
      "RangeIndex: 4481 entries, 0 to 4480\n",
      "Data columns (total 6 columns):\n",
      "time      4481 non-null object\n",
      "price     4481 non-null float64\n",
      "change    4481 non-null float64\n",
      "volume    4481 non-null int64\n",
      "amount    4481 non-null int64\n",
      "type      4481 non-null object\n",
      "dtypes: float64(2), int64(2), object(2)\n",
      "memory usage: 210.1+ KB\n"
     ]
    }
   ],
   "source": [
    "df.info()"
   ]
  },
  {
   "cell_type": "code",
   "execution_count": 28,
   "metadata": {},
   "outputs": [],
   "source": [
    "df['time']=pd.to_datetime(df['time'],format='%Y-%m-%d %H:%M:%S')"
   ]
  },
  {
   "cell_type": "code",
   "execution_count": 29,
   "metadata": {
    "scrolled": true
   },
   "outputs": [
    {
     "data": {
      "text/html": [
       "<div>\n",
       "<style scoped>\n",
       "    .dataframe tbody tr th:only-of-type {\n",
       "        vertical-align: middle;\n",
       "    }\n",
       "\n",
       "    .dataframe tbody tr th {\n",
       "        vertical-align: top;\n",
       "    }\n",
       "\n",
       "    .dataframe thead th {\n",
       "        text-align: right;\n",
       "    }\n",
       "</style>\n",
       "<table border=\"1\" class=\"dataframe\">\n",
       "  <thead>\n",
       "    <tr style=\"text-align: right;\">\n",
       "      <th></th>\n",
       "      <th>time</th>\n",
       "      <th>price</th>\n",
       "      <th>change</th>\n",
       "      <th>volume</th>\n",
       "      <th>amount</th>\n",
       "      <th>type</th>\n",
       "    </tr>\n",
       "  </thead>\n",
       "  <tbody>\n",
       "    <tr>\n",
       "      <th>0</th>\n",
       "      <td>2019-04-03 09:25:04</td>\n",
       "      <td>178.00</td>\n",
       "      <td>-0.75</td>\n",
       "      <td>294</td>\n",
       "      <td>523323</td>\n",
       "      <td>卖盘</td>\n",
       "    </tr>\n",
       "    <tr>\n",
       "      <th>1</th>\n",
       "      <td>2019-04-03 09:30:03</td>\n",
       "      <td>178.00</td>\n",
       "      <td>-0.00</td>\n",
       "      <td>142</td>\n",
       "      <td>252767</td>\n",
       "      <td>卖盘</td>\n",
       "    </tr>\n",
       "    <tr>\n",
       "      <th>2</th>\n",
       "      <td>2019-04-03 09:30:06</td>\n",
       "      <td>177.50</td>\n",
       "      <td>-0.50</td>\n",
       "      <td>1180</td>\n",
       "      <td>2098086</td>\n",
       "      <td>卖盘</td>\n",
       "    </tr>\n",
       "    <tr>\n",
       "      <th>3</th>\n",
       "      <td>2019-04-03 09:30:09</td>\n",
       "      <td>177.50</td>\n",
       "      <td>0.00</td>\n",
       "      <td>69</td>\n",
       "      <td>122406</td>\n",
       "      <td>买盘</td>\n",
       "    </tr>\n",
       "    <tr>\n",
       "      <th>4</th>\n",
       "      <td>2019-04-03 09:30:12</td>\n",
       "      <td>177.61</td>\n",
       "      <td>0.11</td>\n",
       "      <td>610</td>\n",
       "      <td>1082802</td>\n",
       "      <td>买盘</td>\n",
       "    </tr>\n",
       "  </tbody>\n",
       "</table>\n",
       "</div>"
      ],
      "text/plain": [
       "                 time   price  change  volume   amount type\n",
       "0 2019-04-03 09:25:04  178.00   -0.75     294   523323   卖盘\n",
       "1 2019-04-03 09:30:03  178.00   -0.00     142   252767   卖盘\n",
       "2 2019-04-03 09:30:06  177.50   -0.50    1180  2098086   卖盘\n",
       "3 2019-04-03 09:30:09  177.50    0.00      69   122406   买盘\n",
       "4 2019-04-03 09:30:12  177.61    0.11     610  1082802   买盘"
      ]
     },
     "execution_count": 29,
     "metadata": {},
     "output_type": "execute_result"
    }
   ],
   "source": [
    "df.head()"
   ]
  },
  {
   "cell_type": "code",
   "execution_count": 13,
   "metadata": {},
   "outputs": [],
   "source": [
    "import datetime"
   ]
  },
  {
   "cell_type": "code",
   "execution_count": 15,
   "metadata": {},
   "outputs": [],
   "source": [
    "today = datetime.date.today().strftime('%Y-%m-%d')"
   ]
  },
  {
   "cell_type": "code",
   "execution_count": 27,
   "metadata": {},
   "outputs": [],
   "source": [
    "df['time']=df['time'].map(lambda x:today+' '+x)"
   ]
  },
  {
   "cell_type": "code",
   "execution_count": 18,
   "metadata": {},
   "outputs": [
    {
     "data": {
      "text/html": [
       "<div>\n",
       "<style scoped>\n",
       "    .dataframe tbody tr th:only-of-type {\n",
       "        vertical-align: middle;\n",
       "    }\n",
       "\n",
       "    .dataframe tbody tr th {\n",
       "        vertical-align: top;\n",
       "    }\n",
       "\n",
       "    .dataframe thead th {\n",
       "        text-align: right;\n",
       "    }\n",
       "</style>\n",
       "<table border=\"1\" class=\"dataframe\">\n",
       "  <thead>\n",
       "    <tr style=\"text-align: right;\">\n",
       "      <th></th>\n",
       "      <th>time</th>\n",
       "      <th>price</th>\n",
       "      <th>change</th>\n",
       "      <th>volume</th>\n",
       "      <th>amount</th>\n",
       "      <th>type</th>\n",
       "      <th>times</th>\n",
       "    </tr>\n",
       "  </thead>\n",
       "  <tbody>\n",
       "    <tr>\n",
       "      <th>0</th>\n",
       "      <td>09:25:04</td>\n",
       "      <td>178.00</td>\n",
       "      <td>-0.75</td>\n",
       "      <td>294</td>\n",
       "      <td>523323</td>\n",
       "      <td>卖盘</td>\n",
       "      <td>1900-01-01 09:25:04</td>\n",
       "    </tr>\n",
       "    <tr>\n",
       "      <th>1</th>\n",
       "      <td>09:30:03</td>\n",
       "      <td>178.00</td>\n",
       "      <td>-0.00</td>\n",
       "      <td>142</td>\n",
       "      <td>252767</td>\n",
       "      <td>卖盘</td>\n",
       "      <td>1900-01-01 09:30:03</td>\n",
       "    </tr>\n",
       "    <tr>\n",
       "      <th>2</th>\n",
       "      <td>09:30:06</td>\n",
       "      <td>177.50</td>\n",
       "      <td>-0.50</td>\n",
       "      <td>1180</td>\n",
       "      <td>2098086</td>\n",
       "      <td>卖盘</td>\n",
       "      <td>1900-01-01 09:30:06</td>\n",
       "    </tr>\n",
       "    <tr>\n",
       "      <th>3</th>\n",
       "      <td>09:30:09</td>\n",
       "      <td>177.50</td>\n",
       "      <td>0.00</td>\n",
       "      <td>69</td>\n",
       "      <td>122406</td>\n",
       "      <td>买盘</td>\n",
       "      <td>1900-01-01 09:30:09</td>\n",
       "    </tr>\n",
       "    <tr>\n",
       "      <th>4</th>\n",
       "      <td>09:30:12</td>\n",
       "      <td>177.61</td>\n",
       "      <td>0.11</td>\n",
       "      <td>610</td>\n",
       "      <td>1082802</td>\n",
       "      <td>买盘</td>\n",
       "      <td>1900-01-01 09:30:12</td>\n",
       "    </tr>\n",
       "  </tbody>\n",
       "</table>\n",
       "</div>"
      ],
      "text/plain": [
       "       time   price  change  volume   amount type               times\n",
       "0  09:25:04  178.00   -0.75     294   523323   卖盘 1900-01-01 09:25:04\n",
       "1  09:30:03  178.00   -0.00     142   252767   卖盘 1900-01-01 09:30:03\n",
       "2  09:30:06  177.50   -0.50    1180  2098086   卖盘 1900-01-01 09:30:06\n",
       "3  09:30:09  177.50    0.00      69   122406   买盘 1900-01-01 09:30:09\n",
       "4  09:30:12  177.61    0.11     610  1082802   买盘 1900-01-01 09:30:12"
      ]
     },
     "execution_count": 18,
     "metadata": {},
     "output_type": "execute_result"
    }
   ],
   "source": [
    "df.head()"
   ]
  },
  {
   "cell_type": "code",
   "execution_count": 20,
   "metadata": {},
   "outputs": [
    {
     "data": {
      "text/html": [
       "<div>\n",
       "<style scoped>\n",
       "    .dataframe tbody tr th:only-of-type {\n",
       "        vertical-align: middle;\n",
       "    }\n",
       "\n",
       "    .dataframe tbody tr th {\n",
       "        vertical-align: top;\n",
       "    }\n",
       "\n",
       "    .dataframe thead th {\n",
       "        text-align: right;\n",
       "    }\n",
       "</style>\n",
       "<table border=\"1\" class=\"dataframe\">\n",
       "  <thead>\n",
       "    <tr style=\"text-align: right;\">\n",
       "      <th></th>\n",
       "      <th>time</th>\n",
       "      <th>price</th>\n",
       "      <th>change</th>\n",
       "      <th>volume</th>\n",
       "      <th>amount</th>\n",
       "      <th>type</th>\n",
       "      <th>times</th>\n",
       "    </tr>\n",
       "  </thead>\n",
       "  <tbody>\n",
       "    <tr>\n",
       "      <th>0</th>\n",
       "      <td>2019-04-03 09:25:04</td>\n",
       "      <td>178.00</td>\n",
       "      <td>-0.75</td>\n",
       "      <td>294</td>\n",
       "      <td>523323</td>\n",
       "      <td>卖盘</td>\n",
       "      <td>1900-01-01 09:25:04</td>\n",
       "    </tr>\n",
       "    <tr>\n",
       "      <th>1</th>\n",
       "      <td>2019-04-03 09:30:03</td>\n",
       "      <td>178.00</td>\n",
       "      <td>-0.00</td>\n",
       "      <td>142</td>\n",
       "      <td>252767</td>\n",
       "      <td>卖盘</td>\n",
       "      <td>1900-01-01 09:30:03</td>\n",
       "    </tr>\n",
       "    <tr>\n",
       "      <th>2</th>\n",
       "      <td>2019-04-03 09:30:06</td>\n",
       "      <td>177.50</td>\n",
       "      <td>-0.50</td>\n",
       "      <td>1180</td>\n",
       "      <td>2098086</td>\n",
       "      <td>卖盘</td>\n",
       "      <td>1900-01-01 09:30:06</td>\n",
       "    </tr>\n",
       "    <tr>\n",
       "      <th>3</th>\n",
       "      <td>2019-04-03 09:30:09</td>\n",
       "      <td>177.50</td>\n",
       "      <td>0.00</td>\n",
       "      <td>69</td>\n",
       "      <td>122406</td>\n",
       "      <td>买盘</td>\n",
       "      <td>1900-01-01 09:30:09</td>\n",
       "    </tr>\n",
       "    <tr>\n",
       "      <th>4</th>\n",
       "      <td>2019-04-03 09:30:12</td>\n",
       "      <td>177.61</td>\n",
       "      <td>0.11</td>\n",
       "      <td>610</td>\n",
       "      <td>1082802</td>\n",
       "      <td>买盘</td>\n",
       "      <td>1900-01-01 09:30:12</td>\n",
       "    </tr>\n",
       "  </tbody>\n",
       "</table>\n",
       "</div>"
      ],
      "text/plain": [
       "                  time   price  change  volume   amount type  \\\n",
       "0  2019-04-03 09:25:04  178.00   -0.75     294   523323   卖盘   \n",
       "1  2019-04-03 09:30:03  178.00   -0.00     142   252767   卖盘   \n",
       "2  2019-04-03 09:30:06  177.50   -0.50    1180  2098086   卖盘   \n",
       "3  2019-04-03 09:30:09  177.50    0.00      69   122406   买盘   \n",
       "4  2019-04-03 09:30:12  177.61    0.11     610  1082802   买盘   \n",
       "\n",
       "                times  \n",
       "0 1900-01-01 09:25:04  \n",
       "1 1900-01-01 09:30:03  \n",
       "2 1900-01-01 09:30:06  \n",
       "3 1900-01-01 09:30:09  \n",
       "4 1900-01-01 09:30:12  "
      ]
     },
     "execution_count": 20,
     "metadata": {},
     "output_type": "execute_result"
    }
   ],
   "source": [
    "df.head()"
   ]
  },
  {
   "cell_type": "code",
   "execution_count": 21,
   "metadata": {},
   "outputs": [],
   "source": [
    "del df['times']"
   ]
  },
  {
   "cell_type": "code",
   "execution_count": 22,
   "metadata": {},
   "outputs": [
    {
     "data": {
      "text/html": [
       "<div>\n",
       "<style scoped>\n",
       "    .dataframe tbody tr th:only-of-type {\n",
       "        vertical-align: middle;\n",
       "    }\n",
       "\n",
       "    .dataframe tbody tr th {\n",
       "        vertical-align: top;\n",
       "    }\n",
       "\n",
       "    .dataframe thead th {\n",
       "        text-align: right;\n",
       "    }\n",
       "</style>\n",
       "<table border=\"1\" class=\"dataframe\">\n",
       "  <thead>\n",
       "    <tr style=\"text-align: right;\">\n",
       "      <th></th>\n",
       "      <th>time</th>\n",
       "      <th>price</th>\n",
       "      <th>change</th>\n",
       "      <th>volume</th>\n",
       "      <th>amount</th>\n",
       "      <th>type</th>\n",
       "    </tr>\n",
       "  </thead>\n",
       "  <tbody>\n",
       "    <tr>\n",
       "      <th>0</th>\n",
       "      <td>2019-04-03 09:25:04</td>\n",
       "      <td>178.00</td>\n",
       "      <td>-0.75</td>\n",
       "      <td>294</td>\n",
       "      <td>523323</td>\n",
       "      <td>卖盘</td>\n",
       "    </tr>\n",
       "    <tr>\n",
       "      <th>1</th>\n",
       "      <td>2019-04-03 09:30:03</td>\n",
       "      <td>178.00</td>\n",
       "      <td>-0.00</td>\n",
       "      <td>142</td>\n",
       "      <td>252767</td>\n",
       "      <td>卖盘</td>\n",
       "    </tr>\n",
       "    <tr>\n",
       "      <th>2</th>\n",
       "      <td>2019-04-03 09:30:06</td>\n",
       "      <td>177.50</td>\n",
       "      <td>-0.50</td>\n",
       "      <td>1180</td>\n",
       "      <td>2098086</td>\n",
       "      <td>卖盘</td>\n",
       "    </tr>\n",
       "    <tr>\n",
       "      <th>3</th>\n",
       "      <td>2019-04-03 09:30:09</td>\n",
       "      <td>177.50</td>\n",
       "      <td>0.00</td>\n",
       "      <td>69</td>\n",
       "      <td>122406</td>\n",
       "      <td>买盘</td>\n",
       "    </tr>\n",
       "    <tr>\n",
       "      <th>4</th>\n",
       "      <td>2019-04-03 09:30:12</td>\n",
       "      <td>177.61</td>\n",
       "      <td>0.11</td>\n",
       "      <td>610</td>\n",
       "      <td>1082802</td>\n",
       "      <td>买盘</td>\n",
       "    </tr>\n",
       "  </tbody>\n",
       "</table>\n",
       "</div>"
      ],
      "text/plain": [
       "                  time   price  change  volume   amount type\n",
       "0  2019-04-03 09:25:04  178.00   -0.75     294   523323   卖盘\n",
       "1  2019-04-03 09:30:03  178.00   -0.00     142   252767   卖盘\n",
       "2  2019-04-03 09:30:06  177.50   -0.50    1180  2098086   卖盘\n",
       "3  2019-04-03 09:30:09  177.50    0.00      69   122406   买盘\n",
       "4  2019-04-03 09:30:12  177.61    0.11     610  1082802   买盘"
      ]
     },
     "execution_count": 22,
     "metadata": {},
     "output_type": "execute_result"
    }
   ],
   "source": [
    "df.head()"
   ]
  },
  {
   "cell_type": "code",
   "execution_count": 30,
   "metadata": {},
   "outputs": [],
   "source": [
    "df = df.set_index('time',drop=True)"
   ]
  },
  {
   "cell_type": "code",
   "execution_count": 31,
   "metadata": {},
   "outputs": [
    {
     "data": {
      "text/html": [
       "<div>\n",
       "<style scoped>\n",
       "    .dataframe tbody tr th:only-of-type {\n",
       "        vertical-align: middle;\n",
       "    }\n",
       "\n",
       "    .dataframe tbody tr th {\n",
       "        vertical-align: top;\n",
       "    }\n",
       "\n",
       "    .dataframe thead th {\n",
       "        text-align: right;\n",
       "    }\n",
       "</style>\n",
       "<table border=\"1\" class=\"dataframe\">\n",
       "  <thead>\n",
       "    <tr style=\"text-align: right;\">\n",
       "      <th></th>\n",
       "      <th>price</th>\n",
       "      <th>change</th>\n",
       "      <th>volume</th>\n",
       "      <th>amount</th>\n",
       "      <th>type</th>\n",
       "    </tr>\n",
       "    <tr>\n",
       "      <th>time</th>\n",
       "      <th></th>\n",
       "      <th></th>\n",
       "      <th></th>\n",
       "      <th></th>\n",
       "      <th></th>\n",
       "    </tr>\n",
       "  </thead>\n",
       "  <tbody>\n",
       "    <tr>\n",
       "      <th>2019-04-03 09:25:04</th>\n",
       "      <td>178.00</td>\n",
       "      <td>-0.75</td>\n",
       "      <td>294</td>\n",
       "      <td>523323</td>\n",
       "      <td>卖盘</td>\n",
       "    </tr>\n",
       "    <tr>\n",
       "      <th>2019-04-03 09:30:03</th>\n",
       "      <td>178.00</td>\n",
       "      <td>-0.00</td>\n",
       "      <td>142</td>\n",
       "      <td>252767</td>\n",
       "      <td>卖盘</td>\n",
       "    </tr>\n",
       "    <tr>\n",
       "      <th>2019-04-03 09:30:06</th>\n",
       "      <td>177.50</td>\n",
       "      <td>-0.50</td>\n",
       "      <td>1180</td>\n",
       "      <td>2098086</td>\n",
       "      <td>卖盘</td>\n",
       "    </tr>\n",
       "    <tr>\n",
       "      <th>2019-04-03 09:30:09</th>\n",
       "      <td>177.50</td>\n",
       "      <td>0.00</td>\n",
       "      <td>69</td>\n",
       "      <td>122406</td>\n",
       "      <td>买盘</td>\n",
       "    </tr>\n",
       "    <tr>\n",
       "      <th>2019-04-03 09:30:12</th>\n",
       "      <td>177.61</td>\n",
       "      <td>0.11</td>\n",
       "      <td>610</td>\n",
       "      <td>1082802</td>\n",
       "      <td>买盘</td>\n",
       "    </tr>\n",
       "  </tbody>\n",
       "</table>\n",
       "</div>"
      ],
      "text/plain": [
       "                      price  change  volume   amount type\n",
       "time                                                     \n",
       "2019-04-03 09:25:04  178.00   -0.75     294   523323   卖盘\n",
       "2019-04-03 09:30:03  178.00   -0.00     142   252767   卖盘\n",
       "2019-04-03 09:30:06  177.50   -0.50    1180  2098086   卖盘\n",
       "2019-04-03 09:30:09  177.50    0.00      69   122406   买盘\n",
       "2019-04-03 09:30:12  177.61    0.11     610  1082802   买盘"
      ]
     },
     "execution_count": 31,
     "metadata": {},
     "output_type": "execute_result"
    }
   ],
   "source": [
    "df.head()"
   ]
  },
  {
   "cell_type": "code",
   "execution_count": 34,
   "metadata": {},
   "outputs": [
    {
     "data": {
      "text/html": [
       "<div>\n",
       "<style scoped>\n",
       "    .dataframe tbody tr th:only-of-type {\n",
       "        vertical-align: middle;\n",
       "    }\n",
       "\n",
       "    .dataframe tbody tr th {\n",
       "        vertical-align: top;\n",
       "    }\n",
       "\n",
       "    .dataframe thead th {\n",
       "        text-align: right;\n",
       "    }\n",
       "</style>\n",
       "<table border=\"1\" class=\"dataframe\">\n",
       "  <thead>\n",
       "    <tr style=\"text-align: right;\">\n",
       "      <th></th>\n",
       "      <th>price</th>\n",
       "      <th>change</th>\n",
       "      <th>volume</th>\n",
       "      <th>amount</th>\n",
       "      <th>type</th>\n",
       "    </tr>\n",
       "    <tr>\n",
       "      <th>time</th>\n",
       "      <th></th>\n",
       "      <th></th>\n",
       "      <th></th>\n",
       "      <th></th>\n",
       "      <th></th>\n",
       "    </tr>\n",
       "  </thead>\n",
       "  <tbody>\n",
       "    <tr>\n",
       "      <th>2019-04-03 09:30:03</th>\n",
       "      <td>178.00</td>\n",
       "      <td>-0.00</td>\n",
       "      <td>142</td>\n",
       "      <td>252767</td>\n",
       "      <td>卖盘</td>\n",
       "    </tr>\n",
       "    <tr>\n",
       "      <th>2019-04-03 09:30:06</th>\n",
       "      <td>177.50</td>\n",
       "      <td>-0.50</td>\n",
       "      <td>1180</td>\n",
       "      <td>2098086</td>\n",
       "      <td>卖盘</td>\n",
       "    </tr>\n",
       "    <tr>\n",
       "      <th>2019-04-03 09:30:09</th>\n",
       "      <td>177.50</td>\n",
       "      <td>0.00</td>\n",
       "      <td>69</td>\n",
       "      <td>122406</td>\n",
       "      <td>买盘</td>\n",
       "    </tr>\n",
       "    <tr>\n",
       "      <th>2019-04-03 09:30:12</th>\n",
       "      <td>177.61</td>\n",
       "      <td>0.11</td>\n",
       "      <td>610</td>\n",
       "      <td>1082802</td>\n",
       "      <td>买盘</td>\n",
       "    </tr>\n",
       "    <tr>\n",
       "      <th>2019-04-03 09:30:15</th>\n",
       "      <td>177.93</td>\n",
       "      <td>0.32</td>\n",
       "      <td>9</td>\n",
       "      <td>16014</td>\n",
       "      <td>中性盘</td>\n",
       "    </tr>\n",
       "    <tr>\n",
       "      <th>2019-04-03 09:30:21</th>\n",
       "      <td>177.78</td>\n",
       "      <td>-0.15</td>\n",
       "      <td>388</td>\n",
       "      <td>689325</td>\n",
       "      <td>买盘</td>\n",
       "    </tr>\n",
       "    <tr>\n",
       "      <th>2019-04-03 09:30:24</th>\n",
       "      <td>177.60</td>\n",
       "      <td>-0.18</td>\n",
       "      <td>353</td>\n",
       "      <td>627006</td>\n",
       "      <td>卖盘</td>\n",
       "    </tr>\n",
       "    <tr>\n",
       "      <th>2019-04-03 09:30:27</th>\n",
       "      <td>177.80</td>\n",
       "      <td>0.20</td>\n",
       "      <td>1</td>\n",
       "      <td>1778</td>\n",
       "      <td>中性盘</td>\n",
       "    </tr>\n",
       "    <tr>\n",
       "      <th>2019-04-03 09:30:30</th>\n",
       "      <td>177.80</td>\n",
       "      <td>0.00</td>\n",
       "      <td>6</td>\n",
       "      <td>10668</td>\n",
       "      <td>中性盘</td>\n",
       "    </tr>\n",
       "    <tr>\n",
       "      <th>2019-04-03 09:30:33</th>\n",
       "      <td>177.50</td>\n",
       "      <td>-0.30</td>\n",
       "      <td>510</td>\n",
       "      <td>906119</td>\n",
       "      <td>卖盘</td>\n",
       "    </tr>\n",
       "    <tr>\n",
       "      <th>2019-04-03 09:30:36</th>\n",
       "      <td>177.51</td>\n",
       "      <td>0.01</td>\n",
       "      <td>92</td>\n",
       "      <td>163370</td>\n",
       "      <td>买盘</td>\n",
       "    </tr>\n",
       "    <tr>\n",
       "      <th>2019-04-03 09:30:39</th>\n",
       "      <td>177.88</td>\n",
       "      <td>0.37</td>\n",
       "      <td>40</td>\n",
       "      <td>71152</td>\n",
       "      <td>买盘</td>\n",
       "    </tr>\n",
       "    <tr>\n",
       "      <th>2019-04-03 09:30:42</th>\n",
       "      <td>177.70</td>\n",
       "      <td>-0.18</td>\n",
       "      <td>61</td>\n",
       "      <td>108397</td>\n",
       "      <td>买盘</td>\n",
       "    </tr>\n",
       "    <tr>\n",
       "      <th>2019-04-03 09:30:45</th>\n",
       "      <td>177.20</td>\n",
       "      <td>-0.50</td>\n",
       "      <td>502</td>\n",
       "      <td>890876</td>\n",
       "      <td>卖盘</td>\n",
       "    </tr>\n",
       "    <tr>\n",
       "      <th>2019-04-03 09:30:48</th>\n",
       "      <td>177.00</td>\n",
       "      <td>-0.20</td>\n",
       "      <td>500</td>\n",
       "      <td>886344</td>\n",
       "      <td>卖盘</td>\n",
       "    </tr>\n",
       "    <tr>\n",
       "      <th>2019-04-03 09:30:51</th>\n",
       "      <td>177.52</td>\n",
       "      <td>0.52</td>\n",
       "      <td>5</td>\n",
       "      <td>8876</td>\n",
       "      <td>中性盘</td>\n",
       "    </tr>\n",
       "    <tr>\n",
       "      <th>2019-04-03 09:30:54</th>\n",
       "      <td>177.31</td>\n",
       "      <td>-0.21</td>\n",
       "      <td>101</td>\n",
       "      <td>179253</td>\n",
       "      <td>中性盘</td>\n",
       "    </tr>\n",
       "    <tr>\n",
       "      <th>2019-04-03 09:30:57</th>\n",
       "      <td>177.48</td>\n",
       "      <td>0.17</td>\n",
       "      <td>1</td>\n",
       "      <td>1775</td>\n",
       "      <td>买盘</td>\n",
       "    </tr>\n",
       "  </tbody>\n",
       "</table>\n",
       "</div>"
      ],
      "text/plain": [
       "                      price  change  volume   amount type\n",
       "time                                                     \n",
       "2019-04-03 09:30:03  178.00   -0.00     142   252767   卖盘\n",
       "2019-04-03 09:30:06  177.50   -0.50    1180  2098086   卖盘\n",
       "2019-04-03 09:30:09  177.50    0.00      69   122406   买盘\n",
       "2019-04-03 09:30:12  177.61    0.11     610  1082802   买盘\n",
       "2019-04-03 09:30:15  177.93    0.32       9    16014  中性盘\n",
       "2019-04-03 09:30:21  177.78   -0.15     388   689325   买盘\n",
       "2019-04-03 09:30:24  177.60   -0.18     353   627006   卖盘\n",
       "2019-04-03 09:30:27  177.80    0.20       1     1778  中性盘\n",
       "2019-04-03 09:30:30  177.80    0.00       6    10668  中性盘\n",
       "2019-04-03 09:30:33  177.50   -0.30     510   906119   卖盘\n",
       "2019-04-03 09:30:36  177.51    0.01      92   163370   买盘\n",
       "2019-04-03 09:30:39  177.88    0.37      40    71152   买盘\n",
       "2019-04-03 09:30:42  177.70   -0.18      61   108397   买盘\n",
       "2019-04-03 09:30:45  177.20   -0.50     502   890876   卖盘\n",
       "2019-04-03 09:30:48  177.00   -0.20     500   886344   卖盘\n",
       "2019-04-03 09:30:51  177.52    0.52       5     8876  中性盘\n",
       "2019-04-03 09:30:54  177.31   -0.21     101   179253  中性盘\n",
       "2019-04-03 09:30:57  177.48    0.17       1     1775   买盘"
      ]
     },
     "execution_count": 34,
     "metadata": {},
     "output_type": "execute_result"
    }
   ],
   "source": [
    "df['2019-04-03 09:30']"
   ]
  },
  {
   "cell_type": "code",
   "execution_count": 41,
   "metadata": {
    "scrolled": true
   },
   "outputs": [
    {
     "name": "stdout",
     "output_type": "stream",
     "text": [
      "<class 'pandas.core.frame.DataFrame'>\n",
      "DatetimeIndex: 4481 entries, 2019-04-03 09:25:04 to 2019-04-03 15:00:04\n",
      "Data columns (total 5 columns):\n",
      "price     4481 non-null float64\n",
      "change    4481 non-null float64\n",
      "volume    4481 non-null int64\n",
      "amount    4481 non-null int64\n",
      "type      4481 non-null object\n",
      "dtypes: float64(2), int64(2), object(1)\n",
      "memory usage: 210.0+ KB\n"
     ]
    }
   ],
   "source": [
    "df.info()"
   ]
  },
  {
   "cell_type": "code",
   "execution_count": 40,
   "metadata": {},
   "outputs": [],
   "source": [
    "df['volume']=df['volume'].astype('int64')"
   ]
  },
  {
   "cell_type": "code",
   "execution_count": 42,
   "metadata": {},
   "outputs": [],
   "source": [
    "grpby = df.groupby('type')"
   ]
  },
  {
   "cell_type": "code",
   "execution_count": 43,
   "metadata": {},
   "outputs": [
    {
     "data": {
      "text/plain": [
       "<pandas.core.groupby.groupby.DataFrameGroupBy object at 0x7f37b7d66f60>"
      ]
     },
     "execution_count": 43,
     "metadata": {},
     "output_type": "execute_result"
    }
   ],
   "source": [
    "grpby"
   ]
  },
  {
   "cell_type": "code",
   "execution_count": 46,
   "metadata": {},
   "outputs": [],
   "source": [
    "vol_type = grpby['volume'].sum()"
   ]
  },
  {
   "cell_type": "code",
   "execution_count": 48,
   "metadata": {},
   "outputs": [
    {
     "data": {
      "text/plain": [
       "74466"
      ]
     },
     "execution_count": 48,
     "metadata": {},
     "output_type": "execute_result"
    }
   ],
   "source": [
    "vol_type['中性盘']"
   ]
  }
 ],
 "metadata": {
  "kernelspec": {
   "display_name": "Python 3",
   "language": "python",
   "name": "python3"
  },
  "language_info": {
   "codemirror_mode": {
    "name": "ipython",
    "version": 3
   },
   "file_extension": ".py",
   "mimetype": "text/x-python",
   "name": "python",
   "nbconvert_exporter": "python",
   "pygments_lexer": "ipython3",
   "version": "3.5.2"
  }
 },
 "nbformat": 4,
 "nbformat_minor": 2
}
